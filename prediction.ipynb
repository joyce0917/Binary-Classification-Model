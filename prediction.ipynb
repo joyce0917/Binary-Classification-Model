{
 "cells": [
  {
   "cell_type": "code",
   "execution_count": 108,
   "id": "b5689eb6",
   "metadata": {},
   "outputs": [],
   "source": [
    "import json\n",
    "import pandas as pd\n",
    "import numpy as np\n",
    "import matplotlib.pyplot as plt\n",
    "import statsmodels.api as sm\n",
    "import seaborn as sn\n",
    "from sklearn.model_selection import train_test_split\n",
    "from sklearn.linear_model import LogisticRegression\n",
    "from sklearn.metrics import classification_report,confusion_matrix\n",
    "from sklearn.naive_bayes import GaussianNB\n",
    "from sklearn.tree import DecisionTreeClassifier\n",
    "from sklearn.ensemble import RandomForestClassifier\n",
    "from sklearn.svm import SVC\n",
    "from imblearn.over_sampling import SMOTE\n",
    "from sklearn.metrics import f1_score\n",
    "from sklearn.neighbors import KNeighborsClassifier\n",
    "from sklearn.model_selection import RepeatedKFold\n",
    "from sklearn.model_selection import cross_val_score"
   ]
  },
  {
   "cell_type": "code",
   "execution_count": null,
   "id": "096f3727",
   "metadata": {},
   "outputs": [],
   "source": []
  },
  {
   "cell_type": "code",
   "execution_count": 2,
   "id": "47d15bcf",
   "metadata": {},
   "outputs": [],
   "source": [
    "curriculum_info=pd.read_json(\"curriculum-info.json\")\n",
    "chapter_info=pd.read_json(\"chapter-info.json\")\n",
    "lesson_info=pd.read_json(\"lesson-info.json\")\n",
    "unit_info=pd.read_json(\"unit-info.json\")\n",
    "unit_dependency=pd.read_json(\"unit-dependency.json\")\n",
    "train=pd.read_csv(\"train.csv\")\n",
    "test=pd.read_csv(\"test.csv\")"
   ]
  },
  {
   "cell_type": "code",
   "execution_count": 3,
   "id": "f56e8868",
   "metadata": {},
   "outputs": [
    {
     "data": {
      "text/html": [
       "<div>\n",
       "<style scoped>\n",
       "    .dataframe tbody tr th:only-of-type {\n",
       "        vertical-align: middle;\n",
       "    }\n",
       "\n",
       "    .dataframe tbody tr th {\n",
       "        vertical-align: top;\n",
       "    }\n",
       "\n",
       "    .dataframe thead th {\n",
       "        text-align: right;\n",
       "    }\n",
       "</style>\n",
       "<table border=\"1\" class=\"dataframe\">\n",
       "  <thead>\n",
       "    <tr style=\"text-align: right;\">\n",
       "      <th></th>\n",
       "      <th>id</th>\n",
       "      <th>name</th>\n",
       "    </tr>\n",
       "  </thead>\n",
       "  <tbody>\n",
       "    <tr>\n",
       "      <th>0</th>\n",
       "      <td>13</td>\n",
       "      <td>Level C</td>\n",
       "    </tr>\n",
       "  </tbody>\n",
       "</table>\n",
       "</div>"
      ],
      "text/plain": [
       "   id     name\n",
       "0  13  Level C"
      ]
     },
     "execution_count": 3,
     "metadata": {},
     "output_type": "execute_result"
    }
   ],
   "source": [
    "curriculum_info"
   ]
  },
  {
   "cell_type": "code",
   "execution_count": 4,
   "id": "a58e68cb",
   "metadata": {},
   "outputs": [
    {
     "data": {
      "text/html": [
       "<div>\n",
       "<style scoped>\n",
       "    .dataframe tbody tr th:only-of-type {\n",
       "        vertical-align: middle;\n",
       "    }\n",
       "\n",
       "    .dataframe tbody tr th {\n",
       "        vertical-align: top;\n",
       "    }\n",
       "\n",
       "    .dataframe thead th {\n",
       "        text-align: right;\n",
       "    }\n",
       "</style>\n",
       "<table border=\"1\" class=\"dataframe\">\n",
       "  <thead>\n",
       "    <tr style=\"text-align: right;\">\n",
       "      <th></th>\n",
       "      <th>id</th>\n",
       "      <th>user_id</th>\n",
       "      <th>unit_id</th>\n",
       "      <th>result</th>\n",
       "      <th>modified_at</th>\n",
       "      <th>type</th>\n",
       "      <th>is_step</th>\n",
       "      <th>problem_id</th>\n",
       "      <th>created_at</th>\n",
       "    </tr>\n",
       "  </thead>\n",
       "  <tbody>\n",
       "    <tr>\n",
       "      <th>0</th>\n",
       "      <td>2173111</td>\n",
       "      <td>28878</td>\n",
       "      <td>10770</td>\n",
       "      <td>1</td>\n",
       "      <td>2018-05-31T21:56:14.000Z</td>\n",
       "      <td>LESSON</td>\n",
       "      <td>False</td>\n",
       "      <td>6092474</td>\n",
       "      <td>2018-05-31T21:55:58.000Z</td>\n",
       "    </tr>\n",
       "    <tr>\n",
       "      <th>1</th>\n",
       "      <td>2173115</td>\n",
       "      <td>28878</td>\n",
       "      <td>10770</td>\n",
       "      <td>1</td>\n",
       "      <td>2018-05-31T21:56:48.000Z</td>\n",
       "      <td>LESSON</td>\n",
       "      <td>False</td>\n",
       "      <td>6092476</td>\n",
       "      <td>2018-05-31T21:56:20.000Z</td>\n",
       "    </tr>\n",
       "    <tr>\n",
       "      <th>2</th>\n",
       "      <td>2173122</td>\n",
       "      <td>28878</td>\n",
       "      <td>10770</td>\n",
       "      <td>1</td>\n",
       "      <td>2018-05-31T21:57:23.000Z</td>\n",
       "      <td>LESSON</td>\n",
       "      <td>False</td>\n",
       "      <td>6092472</td>\n",
       "      <td>2018-05-31T21:56:57.000Z</td>\n",
       "    </tr>\n",
       "    <tr>\n",
       "      <th>3</th>\n",
       "      <td>2173150</td>\n",
       "      <td>28878</td>\n",
       "      <td>10771</td>\n",
       "      <td>1</td>\n",
       "      <td>2018-05-31T22:00:44.000Z</td>\n",
       "      <td>LESSON</td>\n",
       "      <td>False</td>\n",
       "      <td>6126355</td>\n",
       "      <td>2018-05-31T21:58:20.000Z</td>\n",
       "    </tr>\n",
       "    <tr>\n",
       "      <th>4</th>\n",
       "      <td>2173167</td>\n",
       "      <td>28878</td>\n",
       "      <td>10770</td>\n",
       "      <td>1</td>\n",
       "      <td>2018-05-31T22:00:44.000Z</td>\n",
       "      <td>LESSON</td>\n",
       "      <td>True</td>\n",
       "      <td>6126356</td>\n",
       "      <td>2018-05-31T21:59:08.000Z</td>\n",
       "    </tr>\n",
       "  </tbody>\n",
       "</table>\n",
       "</div>"
      ],
      "text/plain": [
       "        id  user_id  unit_id  result               modified_at    type  \\\n",
       "0  2173111    28878    10770       1  2018-05-31T21:56:14.000Z  LESSON   \n",
       "1  2173115    28878    10770       1  2018-05-31T21:56:48.000Z  LESSON   \n",
       "2  2173122    28878    10770       1  2018-05-31T21:57:23.000Z  LESSON   \n",
       "3  2173150    28878    10771       1  2018-05-31T22:00:44.000Z  LESSON   \n",
       "4  2173167    28878    10770       1  2018-05-31T22:00:44.000Z  LESSON   \n",
       "\n",
       "   is_step  problem_id                created_at  \n",
       "0    False     6092474  2018-05-31T21:55:58.000Z  \n",
       "1    False     6092476  2018-05-31T21:56:20.000Z  \n",
       "2    False     6092472  2018-05-31T21:56:57.000Z  \n",
       "3    False     6126355  2018-05-31T21:58:20.000Z  \n",
       "4     True     6126356  2018-05-31T21:59:08.000Z  "
      ]
     },
     "execution_count": 4,
     "metadata": {},
     "output_type": "execute_result"
    }
   ],
   "source": [
    "train.head()"
   ]
  },
  {
   "cell_type": "code",
   "execution_count": 5,
   "id": "f73a68af",
   "metadata": {},
   "outputs": [
    {
     "data": {
      "text/plain": [
       "id             0\n",
       "user_id        0\n",
       "unit_id        0\n",
       "result         0\n",
       "modified_at    0\n",
       "type           0\n",
       "is_step        0\n",
       "problem_id     0\n",
       "created_at     0\n",
       "dtype: int64"
      ]
     },
     "execution_count": 5,
     "metadata": {},
     "output_type": "execute_result"
    }
   ],
   "source": [
    "train.isnull().sum()"
   ]
  },
  {
   "cell_type": "code",
   "execution_count": null,
   "id": "19ff8215",
   "metadata": {},
   "outputs": [],
   "source": []
  },
  {
   "cell_type": "markdown",
   "id": "7b1c9bac",
   "metadata": {},
   "source": [
    "# Feature Engineering"
   ]
  },
  {
   "cell_type": "markdown",
   "id": "0990856d",
   "metadata": {},
   "source": [
    "## unit dependencies count\n",
    "관련된 유닛의 개수"
   ]
  },
  {
   "cell_type": "code",
   "execution_count": 6,
   "id": "a36b0d19",
   "metadata": {},
   "outputs": [],
   "source": [
    "dependent_count=unit_dependency.set_index(\"id\")\n",
    "dependent_count=dependent_count.loc[train[\"unit_id\"]][\"dependencies\"].str.len()\n",
    "dependent_count=dependent_count.reset_index(drop=True)\n",
    "train[\"dependent_count\"]=dependent_count"
   ]
  },
  {
   "cell_type": "code",
   "execution_count": null,
   "id": "4410681d",
   "metadata": {},
   "outputs": [],
   "source": []
  },
  {
   "cell_type": "markdown",
   "id": "bb96dfab",
   "metadata": {},
   "source": [
    "## time taken in sec\n",
    "문제 푸는데 걸린 시간"
   ]
  },
  {
   "cell_type": "code",
   "execution_count": 7,
   "id": "1407a50e",
   "metadata": {},
   "outputs": [],
   "source": [
    "train[\"modified_at\"]=pd.to_datetime(train[\"modified_at\"])\n",
    "train[\"created_at\"]=pd.to_datetime(train[\"created_at\"])"
   ]
  },
  {
   "cell_type": "code",
   "execution_count": 8,
   "id": "11a1d7ea",
   "metadata": {},
   "outputs": [],
   "source": [
    "time_taken=train[\"modified_at\"]-train[\"created_at\"]\n",
    "time_taken=time_taken.astype(int)//(10**9)\n",
    "train[\"time_taken\"]=time_taken"
   ]
  },
  {
   "cell_type": "markdown",
   "id": "84d78b86",
   "metadata": {},
   "source": [
    "## number of lessons\n",
    "유닛이 속해있는 레슨 개수"
   ]
  },
  {
   "cell_type": "code",
   "execution_count": 9,
   "id": "17852afa",
   "metadata": {},
   "outputs": [],
   "source": [
    "lesson_count=unit_info.set_index(\"id\")\n",
    "lesson_count=pd.DataFrame(lesson_count.loc[train[\"unit_id\"]])[\"lessons\"].str.len()\n",
    "lesson_count=lesson_count.reset_index(drop=True)\n",
    "train[\"lesson_count\"]=lesson_count"
   ]
  },
  {
   "cell_type": "markdown",
   "id": "cff50c4f",
   "metadata": {},
   "source": [
    "tried: Chapter seq, curriculum"
   ]
  },
  {
   "cell_type": "markdown",
   "id": "fd97afb3",
   "metadata": {},
   "source": [
    "## is_step bool to int"
   ]
  },
  {
   "cell_type": "code",
   "execution_count": 12,
   "id": "a5a73ae9",
   "metadata": {},
   "outputs": [],
   "source": [
    "train[\"is_step\"]=train[\"is_step\"].astype(int)"
   ]
  },
  {
   "cell_type": "markdown",
   "id": "5b2f10ae",
   "metadata": {},
   "source": [
    "## result should be 0,1"
   ]
  },
  {
   "cell_type": "code",
   "execution_count": 13,
   "id": "2d5d7265",
   "metadata": {},
   "outputs": [
    {
     "data": {
      "text/plain": [
       "1    239761\n",
       "0     49030\n",
       "Name: result, dtype: int64"
      ]
     },
     "execution_count": 13,
     "metadata": {},
     "output_type": "execute_result"
    }
   ],
   "source": [
    "train=train[train[\"result\"].isin([0,1])]\n",
    "train.result.value_counts()"
   ]
  },
  {
   "cell_type": "markdown",
   "id": "f8c24e7d",
   "metadata": {},
   "source": [
    "# split train/test"
   ]
  },
  {
   "cell_type": "code",
   "execution_count": 14,
   "id": "c0c77578",
   "metadata": {},
   "outputs": [],
   "source": [
    "X=train[[\"type\",\"is_step\",\"dependent_count\",\"time_taken\",\"lesson_count\"]]\n",
    "X=pd.get_dummies(data=X,drop_first=True)\n",
    "Y=train[\"result\"]\n",
    "\n",
    "x_train,x_test,y_train,y_test=train_test_split(X,Y,test_size=0.3,random_state=99)"
   ]
  },
  {
   "cell_type": "markdown",
   "id": "1755a713",
   "metadata": {},
   "source": [
    "# Model"
   ]
  },
  {
   "cell_type": "markdown",
   "id": "1df661f3",
   "metadata": {},
   "source": [
    "## check"
   ]
  },
  {
   "cell_type": "code",
   "execution_count": 15,
   "id": "1980f962",
   "metadata": {},
   "outputs": [
    {
     "name": "stdout",
     "output_type": "stream",
     "text": [
      "Optimization terminated successfully.\n",
      "         Current function value: 0.452570\n",
      "         Iterations 6\n"
     ]
    },
    {
     "data": {
      "text/html": [
       "<table class=\"simpletable\">\n",
       "<caption>Logit Regression Results</caption>\n",
       "<tr>\n",
       "  <th>Dep. Variable:</th>        <td>result</td>      <th>  No. Observations:  </th>  <td>202153</td> \n",
       "</tr>\n",
       "<tr>\n",
       "  <th>Model:</th>                 <td>Logit</td>      <th>  Df Residuals:      </th>  <td>202147</td> \n",
       "</tr>\n",
       "<tr>\n",
       "  <th>Method:</th>                 <td>MLE</td>       <th>  Df Model:          </th>  <td>     5</td> \n",
       "</tr>\n",
       "<tr>\n",
       "  <th>Date:</th>            <td>Mon, 31 May 2021</td> <th>  Pseudo R-squ.:     </th> <td>0.008245</td>\n",
       "</tr>\n",
       "<tr>\n",
       "  <th>Time:</th>                <td>14:21:26</td>     <th>  Log-Likelihood:    </th> <td> -91488.</td>\n",
       "</tr>\n",
       "<tr>\n",
       "  <th>converged:</th>             <td>True</td>       <th>  LL-Null:           </th> <td> -92249.</td>\n",
       "</tr>\n",
       "<tr>\n",
       "  <th>Covariance Type:</th>     <td>nonrobust</td>    <th>  LLR p-value:       </th>  <td> 0.000</td> \n",
       "</tr>\n",
       "</table>\n",
       "<table class=\"simpletable\">\n",
       "<tr>\n",
       "           <td></td>             <th>coef</th>     <th>std err</th>      <th>z</th>      <th>P>|z|</th>  <th>[0.025</th>    <th>0.975]</th>  \n",
       "</tr>\n",
       "<tr>\n",
       "  <th>is_step</th>            <td>   -0.9039</td> <td>    0.016</td> <td>  -57.880</td> <td> 0.000</td> <td>   -0.934</td> <td>   -0.873</td>\n",
       "</tr>\n",
       "<tr>\n",
       "  <th>dependent_count</th>    <td>    0.2761</td> <td>    0.004</td> <td>   73.147</td> <td> 0.000</td> <td>    0.269</td> <td>    0.284</td>\n",
       "</tr>\n",
       "<tr>\n",
       "  <th>time_taken</th>         <td>   -0.0010</td> <td> 3.37e-05</td> <td>  -30.042</td> <td> 0.000</td> <td>   -0.001</td> <td>   -0.001</td>\n",
       "</tr>\n",
       "<tr>\n",
       "  <th>lesson_count</th>       <td>    0.0245</td> <td>    0.000</td> <td>   68.196</td> <td> 0.000</td> <td>    0.024</td> <td>    0.025</td>\n",
       "</tr>\n",
       "<tr>\n",
       "  <th>type_LESSON</th>        <td>    1.2149</td> <td>    0.010</td> <td>  126.649</td> <td> 0.000</td> <td>    1.196</td> <td>    1.234</td>\n",
       "</tr>\n",
       "<tr>\n",
       "  <th>type_PLACEMENTTEST</th> <td>   -0.4532</td> <td>    0.046</td> <td>   -9.835</td> <td> 0.000</td> <td>   -0.543</td> <td>   -0.363</td>\n",
       "</tr>\n",
       "</table>"
      ],
      "text/plain": [
       "<class 'statsmodels.iolib.summary.Summary'>\n",
       "\"\"\"\n",
       "                           Logit Regression Results                           \n",
       "==============================================================================\n",
       "Dep. Variable:                 result   No. Observations:               202153\n",
       "Model:                          Logit   Df Residuals:                   202147\n",
       "Method:                           MLE   Df Model:                            5\n",
       "Date:                Mon, 31 May 2021   Pseudo R-squ.:                0.008245\n",
       "Time:                        14:21:26   Log-Likelihood:                -91488.\n",
       "converged:                       True   LL-Null:                       -92249.\n",
       "Covariance Type:            nonrobust   LLR p-value:                     0.000\n",
       "======================================================================================\n",
       "                         coef    std err          z      P>|z|      [0.025      0.975]\n",
       "--------------------------------------------------------------------------------------\n",
       "is_step               -0.9039      0.016    -57.880      0.000      -0.934      -0.873\n",
       "dependent_count        0.2761      0.004     73.147      0.000       0.269       0.284\n",
       "time_taken            -0.0010   3.37e-05    -30.042      0.000      -0.001      -0.001\n",
       "lesson_count           0.0245      0.000     68.196      0.000       0.024       0.025\n",
       "type_LESSON            1.2149      0.010    126.649      0.000       1.196       1.234\n",
       "type_PLACEMENTTEST    -0.4532      0.046     -9.835      0.000      -0.543      -0.363\n",
       "======================================================================================\n",
       "\"\"\""
      ]
     },
     "execution_count": 15,
     "metadata": {},
     "output_type": "execute_result"
    }
   ],
   "source": [
    "model=sm.Logit(y_train,x_train).fit()\n",
    "model.summary()"
   ]
  },
  {
   "cell_type": "markdown",
   "id": "e5849c72",
   "metadata": {},
   "source": [
    "## Model1: Logistic Regression"
   ]
  },
  {
   "cell_type": "code",
   "execution_count": 109,
   "id": "2466136c",
   "metadata": {},
   "outputs": [],
   "source": [
    "model1=LogisticRegression(solver='liblinear', C=100, random_state=99)\n",
    "LogisticRegression?\n",
    "model1.fit(x_train,y_train)\n",
    "pred1=model1.predict(x_test)"
   ]
  },
  {
   "cell_type": "code",
   "execution_count": 17,
   "id": "fbecb337",
   "metadata": {},
   "outputs": [
    {
     "name": "stdout",
     "output_type": "stream",
     "text": [
      "              precision    recall  f1-score   support\n",
      "\n",
      "           0       0.39      0.02      0.03     14607\n",
      "           1       0.83      1.00      0.91     72031\n",
      "\n",
      "    accuracy                           0.83     86638\n",
      "   macro avg       0.61      0.51      0.47     86638\n",
      "weighted avg       0.76      0.83      0.76     86638\n",
      "\n"
     ]
    }
   ],
   "source": [
    "print(classification_report(y_test,pred1))"
   ]
  },
  {
   "cell_type": "code",
   "execution_count": 18,
   "id": "7a02e434",
   "metadata": {},
   "outputs": [
    {
     "data": {
      "text/plain": [
       "array([[  221, 14386],\n",
       "       [  350, 71681]])"
      ]
     },
     "execution_count": 18,
     "metadata": {},
     "output_type": "execute_result"
    }
   ],
   "source": [
    "confusion_matrix(y_test,pred1)"
   ]
  },
  {
   "cell_type": "code",
   "execution_count": 19,
   "id": "784b6195",
   "metadata": {},
   "outputs": [
    {
     "data": {
      "text/plain": [
       "Text(33.0, 0.5, 'Actual')"
      ]
     },
     "execution_count": 19,
     "metadata": {},
     "output_type": "execute_result"
    },
    {
     "data": {
      "image/png": "[encoded data removed]",
      "text/plain": [
       "<Figure size 432x288 with 2 Axes>"
      ]
     },
     "metadata": {
      "needs_background": "light"
     },
     "output_type": "display_data"
    }
   ],
   "source": [
    "sn.heatmap(confusion_matrix(y_test,pred1),annot=True,cmap='Blues')\n",
    "plt.title('Confusion Matrix')\n",
    "plt.xlabel('Predicted')\n",
    "plt.ylabel('Actual')"
   ]
  },
  {
   "cell_type": "markdown",
   "id": "98a08dee",
   "metadata": {},
   "source": [
    "## Model2 : Balanced Logistic Regression"
   ]
  },
  {
   "cell_type": "code",
   "execution_count": 20,
   "id": "f40884bf",
   "metadata": {},
   "outputs": [],
   "source": [
    "model2=LogisticRegression(C=5,random_state=99,class_weight=\"balanced\")\n",
    "model2.fit(x_train,y_train)\n",
    "pred2=model2.predict(x_test)"
   ]
  },
  {
   "cell_type": "code",
   "execution_count": 21,
   "id": "02292ebb",
   "metadata": {},
   "outputs": [
    {
     "name": "stdout",
     "output_type": "stream",
     "text": [
      "              precision    recall  f1-score   support\n",
      "\n",
      "           0       0.30      0.46      0.36     14607\n",
      "           1       0.88      0.78      0.83     72031\n",
      "\n",
      "    accuracy                           0.73     86638\n",
      "   macro avg       0.59      0.62      0.59     86638\n",
      "weighted avg       0.78      0.73      0.75     86638\n",
      "\n"
     ]
    }
   ],
   "source": [
    "print(classification_report(y_test,pred2))"
   ]
  },
  {
   "cell_type": "code",
   "execution_count": 22,
   "id": "785f7d71",
   "metadata": {},
   "outputs": [
    {
     "data": {
      "text/plain": [
       "0.7258593226990466"
      ]
     },
     "execution_count": 22,
     "metadata": {},
     "output_type": "execute_result"
    }
   ],
   "source": [
    "model2.score(x_test, y_test)"
   ]
  },
  {
   "cell_type": "code",
   "execution_count": 23,
   "id": "bf3fdcc4",
   "metadata": {},
   "outputs": [
    {
     "data": {
      "text/plain": [
       "Text(33.0, 0.5, 'Actual')"
      ]
     },
     "execution_count": 23,
     "metadata": {},
     "output_type": "execute_result"
    },
    {
     "data": {
      "image/png": "[encoded data removed]",
      "text/plain": [
       "<Figure size 432x288 with 2 Axes>"
      ]
     },
     "metadata": {
      "needs_background": "light"
     },
     "output_type": "display_data"
    }
   ],
   "source": [
    "sn.heatmap(confusion_matrix(y_test,pred2),annot=True,cmap='Blues')\n",
    "plt.title('Confusion Matrix')\n",
    "plt.xlabel('Predicted')\n",
    "plt.ylabel('Actual')"
   ]
  },
  {
   "cell_type": "markdown",
   "id": "3b5b8758",
   "metadata": {},
   "source": [
    "## Model3: SMOTE"
   ]
  },
  {
   "cell_type": "code",
   "execution_count": 24,
   "id": "0bae3a20",
   "metadata": {},
   "outputs": [
    {
     "data": {
      "text/plain": [
       "<AxesSubplot:>"
      ]
     },
     "execution_count": 24,
     "metadata": {},
     "output_type": "execute_result"
    },
    {
     "data": {
      "image/png": "[encoded data removed]",
      "text/plain": [
       "<Figure size 432x288 with 1 Axes>"
      ]
     },
     "metadata": {
      "needs_background": "light"
     },
     "output_type": "display_data"
    }
   ],
   "source": [
    "y_train.value_counts().plot(kind='bar')"
   ]
  },
  {
   "cell_type": "code",
   "execution_count": 25,
   "id": "cfa691c4",
   "metadata": {},
   "outputs": [],
   "source": [
    "smote=SMOTE(random_state=99)\n",
    "x_train_smote,y_train_smote = smote.fit_resample(x_train,y_train)"
   ]
  },
  {
   "cell_type": "code",
   "execution_count": 26,
   "id": "36996ed3",
   "metadata": {},
   "outputs": [
    {
     "data": {
      "text/plain": [
       "<AxesSubplot:>"
      ]
     },
     "execution_count": 26,
     "metadata": {},
     "output_type": "execute_result"
    },
    {
     "data": {
      "image/png": "[encoded data removed]",
      "text/plain": [
       "<Figure size 432x288 with 1 Axes>"
      ]
     },
     "metadata": {
      "needs_background": "light"
     },
     "output_type": "display_data"
    }
   ],
   "source": [
    "y_train_smote.value_counts().plot(kind='bar')"
   ]
  },
  {
   "cell_type": "code",
   "execution_count": 27,
   "id": "eb9bf511",
   "metadata": {},
   "outputs": [],
   "source": [
    "model3=LogisticRegression()\n",
    "model3.fit(x_train_smote,y_train_smote)\n",
    "pred3=model3.predict(x_test)"
   ]
  },
  {
   "cell_type": "code",
   "execution_count": 28,
   "id": "c1e96bf3",
   "metadata": {},
   "outputs": [
    {
     "name": "stdout",
     "output_type": "stream",
     "text": [
      "              precision    recall  f1-score   support\n",
      "\n",
      "           0       0.27      0.61      0.37     14607\n",
      "           1       0.89      0.67      0.76     72031\n",
      "\n",
      "    accuracy                           0.66     86638\n",
      "   macro avg       0.58      0.64      0.57     86638\n",
      "weighted avg       0.79      0.66      0.70     86638\n",
      "\n"
     ]
    }
   ],
   "source": [
    "print(classification_report(y_test,pred3))"
   ]
  },
  {
   "cell_type": "code",
   "execution_count": 29,
   "id": "04ba6ec6",
   "metadata": {},
   "outputs": [
    {
     "name": "stdout",
     "output_type": "stream",
     "text": [
      "              precision    recall  f1-score   support\n",
      "\n",
      "           0       0.39      0.02      0.03     14607\n",
      "           1       0.83      1.00      0.91     72031\n",
      "\n",
      "    accuracy                           0.83     86638\n",
      "   macro avg       0.61      0.51      0.47     86638\n",
      "weighted avg       0.76      0.83      0.76     86638\n",
      "\n"
     ]
    }
   ],
   "source": [
    "print(classification_report(y_test,pred1))"
   ]
  },
  {
   "cell_type": "code",
   "execution_count": 30,
   "id": "a5372deb",
   "metadata": {},
   "outputs": [
    {
     "data": {
      "text/plain": [
       "Text(33.0, 0.5, 'Actual')"
      ]
     },
     "execution_count": 30,
     "metadata": {},
     "output_type": "execute_result"
    },
    {
     "data": {
      "image/png": "[encoded data removed]",
      "text/plain": [
       "<Figure size 432x288 with 2 Axes>"
      ]
     },
     "metadata": {
      "needs_background": "light"
     },
     "output_type": "display_data"
    }
   ],
   "source": [
    "sn.heatmap(confusion_matrix(y_test,pred3),annot=True,cmap='Blues')\n",
    "plt.title('Confusion Matrix')\n",
    "plt.xlabel('Predicted')\n",
    "plt.ylabel('Actual')"
   ]
  },
  {
   "cell_type": "markdown",
   "id": "0910ee9b",
   "metadata": {},
   "source": [
    "## Model4: Naive Bayes"
   ]
  },
  {
   "cell_type": "code",
   "execution_count": 31,
   "id": "41f54f41",
   "metadata": {},
   "outputs": [],
   "source": [
    "model4 = GaussianNB()\n",
    "model4.fit(x_train, y_train)\n",
    "pred4=model4.predict(x_test)"
   ]
  },
  {
   "cell_type": "code",
   "execution_count": 32,
   "id": "65cc6b31",
   "metadata": {},
   "outputs": [
    {
     "name": "stdout",
     "output_type": "stream",
     "text": [
      "              precision    recall  f1-score   support\n",
      "\n",
      "           0       0.38      0.24      0.30     14607\n",
      "           1       0.86      0.92      0.89     72031\n",
      "\n",
      "    accuracy                           0.81     86638\n",
      "   macro avg       0.62      0.58      0.59     86638\n",
      "weighted avg       0.78      0.81      0.79     86638\n",
      "\n"
     ]
    }
   ],
   "source": [
    "print(classification_report(y_test,pred4))"
   ]
  },
  {
   "cell_type": "code",
   "execution_count": 33,
   "id": "688f4206",
   "metadata": {},
   "outputs": [
    {
     "data": {
      "text/plain": [
       "Text(33.0, 0.5, 'Actual')"
      ]
     },
     "execution_count": 33,
     "metadata": {},
     "output_type": "execute_result"
    },
    {
     "data": {
      "image/png": "[encoded data removed]",
      "text/plain": [
       "<Figure size 432x288 with 2 Axes>"
      ]
     },
     "metadata": {
      "needs_background": "light"
     },
     "output_type": "display_data"
    }
   ],
   "source": [
    "sn.heatmap(confusion_matrix(y_test,pred4),annot=True,cmap='Blues')\n",
    "plt.title('Confusion Matrix')\n",
    "plt.xlabel('Predicted')\n",
    "plt.ylabel('Actual')"
   ]
  },
  {
   "cell_type": "markdown",
   "id": "604760da",
   "metadata": {},
   "source": [
    "## Model5: Naive Bayes with SMOTE"
   ]
  },
  {
   "cell_type": "code",
   "execution_count": 34,
   "id": "dd5f55eb",
   "metadata": {},
   "outputs": [],
   "source": [
    "model5 = GaussianNB()\n",
    "model5.fit(x_train_smote, y_train_smote)\n",
    "pred5=model5.predict(x_test)"
   ]
  },
  {
   "cell_type": "code",
   "execution_count": 35,
   "id": "e0b7801b",
   "metadata": {},
   "outputs": [
    {
     "name": "stdout",
     "output_type": "stream",
     "text": [
      "              precision    recall  f1-score   support\n",
      "\n",
      "           0       0.32      0.34      0.33     14607\n",
      "           1       0.87      0.85      0.86     72031\n",
      "\n",
      "    accuracy                           0.77     86638\n",
      "   macro avg       0.59      0.60      0.60     86638\n",
      "weighted avg       0.77      0.77      0.77     86638\n",
      "\n"
     ]
    }
   ],
   "source": [
    "print(classification_report(y_test,pred5))"
   ]
  },
  {
   "cell_type": "code",
   "execution_count": 36,
   "id": "2dee5c61",
   "metadata": {},
   "outputs": [
    {
     "data": {
      "text/plain": [
       "Text(33.0, 0.5, 'Actual')"
      ]
     },
     "execution_count": 36,
     "metadata": {},
     "output_type": "execute_result"
    },
    {
     "data": {
      "image/png": "[encoded data removed]",
      "text/plain": [
       "<Figure size 432x288 with 2 Axes>"
      ]
     },
     "metadata": {
      "needs_background": "light"
     },
     "output_type": "display_data"
    }
   ],
   "source": [
    "sn.heatmap(confusion_matrix(y_test,pred5),annot=True,cmap='Blues')\n",
    "plt.title('Confusion Matrix')\n",
    "plt.xlabel('Predicted')\n",
    "plt.ylabel('Actual')"
   ]
  },
  {
   "cell_type": "markdown",
   "id": "758fbeaa",
   "metadata": {},
   "source": [
    "## Model6: SVM"
   ]
  },
  {
   "cell_type": "markdown",
   "id": "1eb4efdf",
   "metadata": {},
   "source": [
    ">model6 = SVC(kernel='linear')<br>\n",
    "model6.fit(x_train, y_train)<br>\n",
    "pred6=model6.predict(x_test)"
   ]
  },
  {
   "cell_type": "markdown",
   "id": "9e7b0f6e",
   "metadata": {},
   "source": [
    "## Model7: Decision Tree"
   ]
  },
  {
   "cell_type": "code",
   "execution_count": 37,
   "id": "665dca50",
   "metadata": {},
   "outputs": [],
   "source": [
    "model7=DecisionTreeClassifier()\n",
    "model7.fit(x_train,y_train)\n",
    "pred7=model7.predict(x_test)"
   ]
  },
  {
   "cell_type": "code",
   "execution_count": 38,
   "id": "d5af0049",
   "metadata": {},
   "outputs": [
    {
     "name": "stdout",
     "output_type": "stream",
     "text": [
      "              precision    recall  f1-score   support\n",
      "\n",
      "           0       0.39      0.22      0.28     14607\n",
      "           1       0.85      0.93      0.89     72031\n",
      "\n",
      "    accuracy                           0.81     86638\n",
      "   macro avg       0.62      0.58      0.59     86638\n",
      "weighted avg       0.78      0.81      0.79     86638\n",
      "\n"
     ]
    }
   ],
   "source": [
    "print(classification_report(y_test,pred7))"
   ]
  },
  {
   "cell_type": "code",
   "execution_count": 39,
   "id": "b5c5f9a2",
   "metadata": {},
   "outputs": [
    {
     "data": {
      "text/plain": [
       "Text(33.0, 0.5, 'Actual')"
      ]
     },
     "execution_count": 39,
     "metadata": {},
     "output_type": "execute_result"
    },
    {
     "data": {
      "image/png": "[encoded data removed]",
      "text/plain": [
       "<Figure size 432x288 with 2 Axes>"
      ]
     },
     "metadata": {
      "needs_background": "light"
     },
     "output_type": "display_data"
    }
   ],
   "source": [
    "sn.heatmap(confusion_matrix(y_test,pred7),annot=True,cmap='Blues')\n",
    "plt.title('Confusion Matrix')\n",
    "plt.xlabel('Predicted')\n",
    "plt.ylabel('Actual')"
   ]
  },
  {
   "cell_type": "markdown",
   "id": "62f93175",
   "metadata": {},
   "source": [
    "## Model8: KNN"
   ]
  },
  {
   "cell_type": "code",
   "execution_count": 40,
   "id": "3028658d",
   "metadata": {},
   "outputs": [],
   "source": [
    "model8=KNeighborsClassifier()\n",
    "model8.fit(x_train,y_train)\n",
    "pred8=model8.predict(x_test)"
   ]
  },
  {
   "cell_type": "code",
   "execution_count": 41,
   "id": "a8c0f9e9",
   "metadata": {},
   "outputs": [
    {
     "name": "stdout",
     "output_type": "stream",
     "text": [
      "              precision    recall  f1-score   support\n",
      "\n",
      "           0       0.40      0.17      0.24     14607\n",
      "           1       0.85      0.95      0.90     72031\n",
      "\n",
      "    accuracy                           0.82     86638\n",
      "   macro avg       0.63      0.56      0.57     86638\n",
      "weighted avg       0.77      0.82      0.79     86638\n",
      "\n"
     ]
    }
   ],
   "source": [
    "print(classification_report(y_test,pred8))"
   ]
  },
  {
   "cell_type": "code",
   "execution_count": 42,
   "id": "67021495",
   "metadata": {},
   "outputs": [
    {
     "data": {
      "text/plain": [
       "Text(33.0, 0.5, 'Actual')"
      ]
     },
     "execution_count": 42,
     "metadata": {},
     "output_type": "execute_result"
    },
    {
     "data": {
      "image/png": "[encoded data removed]",
      "text/plain": [
       "<Figure size 432x288 with 2 Axes>"
      ]
     },
     "metadata": {
      "needs_background": "light"
     },
     "output_type": "display_data"
    }
   ],
   "source": [
    "sn.heatmap(confusion_matrix(y_test,pred8),annot=True,cmap='Blues')\n",
    "plt.title('Confusion Matrix')\n",
    "plt.xlabel('Predicted')\n",
    "plt.ylabel('Actual')"
   ]
  },
  {
   "cell_type": "markdown",
   "id": "97316df7",
   "metadata": {},
   "source": [
    "## Model9: RandomForest"
   ]
  },
  {
   "cell_type": "code",
   "execution_count": 43,
   "id": "0f124b42",
   "metadata": {},
   "outputs": [],
   "source": [
    "model9=RandomForestClassifier(n_estimators=100)\n",
    "model9.fit(x_train,y_train)\n",
    "pred9=model9.predict(x_test)"
   ]
  },
  {
   "cell_type": "code",
   "execution_count": 44,
   "id": "504f445c",
   "metadata": {},
   "outputs": [
    {
     "name": "stdout",
     "output_type": "stream",
     "text": [
      "              precision    recall  f1-score   support\n",
      "\n",
      "           0       0.44      0.19      0.26     14607\n",
      "           1       0.85      0.95      0.90     72031\n",
      "\n",
      "    accuracy                           0.82     86638\n",
      "   macro avg       0.65      0.57      0.58     86638\n",
      "weighted avg       0.78      0.82      0.79     86638\n",
      "\n"
     ]
    }
   ],
   "source": [
    "print(classification_report(y_test,pred9))"
   ]
  },
  {
   "cell_type": "code",
   "execution_count": 45,
   "id": "b0aab908",
   "metadata": {},
   "outputs": [
    {
     "data": {
      "text/plain": [
       "Text(33.0, 0.5, 'Actual')"
      ]
     },
     "execution_count": 45,
     "metadata": {},
     "output_type": "execute_result"
    },
    {
     "data": {
      "image/png": "[encoded data removed]",
      "text/plain": [
       "<Figure size 432x288 with 2 Axes>"
      ]
     },
     "metadata": {
      "needs_background": "light"
     },
     "output_type": "display_data"
    }
   ],
   "source": [
    "sn.heatmap(confusion_matrix(y_test,pred9),annot=True,cmap='Blues')\n",
    "plt.title('Confusion Matrix')\n",
    "plt.xlabel('Predicted')\n",
    "plt.ylabel('Actual')"
   ]
  },
  {
   "cell_type": "markdown",
   "id": "8d147d87",
   "metadata": {},
   "source": [
    "# Compare Models"
   ]
  },
  {
   "cell_type": "code",
   "execution_count": 46,
   "id": "f10f6cc3",
   "metadata": {},
   "outputs": [
    {
     "data": {
      "text/html": [
       "<div>\n",
       "<style scoped>\n",
       "    .dataframe tbody tr th:only-of-type {\n",
       "        vertical-align: middle;\n",
       "    }\n",
       "\n",
       "    .dataframe tbody tr th {\n",
       "        vertical-align: top;\n",
       "    }\n",
       "\n",
       "    .dataframe thead th {\n",
       "        text-align: right;\n",
       "    }\n",
       "</style>\n",
       "<table border=\"1\" class=\"dataframe\">\n",
       "  <thead>\n",
       "    <tr style=\"text-align: right;\">\n",
       "      <th></th>\n",
       "      <th>accuracy</th>\n",
       "      <th>f1_score</th>\n",
       "    </tr>\n",
       "  </thead>\n",
       "  <tbody>\n",
       "    <tr>\n",
       "      <th>model1</th>\n",
       "      <td>0.829913</td>\n",
       "      <td>0.906792</td>\n",
       "    </tr>\n",
       "    <tr>\n",
       "      <th>model9</th>\n",
       "      <td>0.823138</td>\n",
       "      <td>0.899477</td>\n",
       "    </tr>\n",
       "    <tr>\n",
       "      <th>model8</th>\n",
       "      <td>0.818036</td>\n",
       "      <td>0.896724</td>\n",
       "    </tr>\n",
       "    <tr>\n",
       "      <th>model7</th>\n",
       "      <td>0.811480</td>\n",
       "      <td>0.891520</td>\n",
       "    </tr>\n",
       "    <tr>\n",
       "      <th>model4</th>\n",
       "      <td>0.805374</td>\n",
       "      <td>0.887099</td>\n",
       "    </tr>\n",
       "    <tr>\n",
       "      <th>model5</th>\n",
       "      <td>0.767169</td>\n",
       "      <td>0.859000</td>\n",
       "    </tr>\n",
       "    <tr>\n",
       "      <th>model2</th>\n",
       "      <td>0.725859</td>\n",
       "      <td>0.825467</td>\n",
       "    </tr>\n",
       "    <tr>\n",
       "      <th>model3</th>\n",
       "      <td>0.657760</td>\n",
       "      <td>0.764564</td>\n",
       "    </tr>\n",
       "  </tbody>\n",
       "</table>\n",
       "</div>"
      ],
      "text/plain": [
       "        accuracy  f1_score\n",
       "model1  0.829913  0.906792\n",
       "model9  0.823138  0.899477\n",
       "model8  0.818036  0.896724\n",
       "model7  0.811480  0.891520\n",
       "model4  0.805374  0.887099\n",
       "model5  0.767169  0.859000\n",
       "model2  0.725859  0.825467\n",
       "model3  0.657760  0.764564"
      ]
     },
     "execution_count": 46,
     "metadata": {},
     "output_type": "execute_result"
    }
   ],
   "source": [
    "accuracy=[model1.score(x_test, y_test),model2.score(x_test, y_test),model3.score(x_test, y_test),model4.score(x_test, y_test),model5.score(x_test, y_test),model7.score(x_test, y_test),model8.score(x_test, y_test),model9.score(x_test, y_test)]\n",
    "f1_scores=[f1_score(y_test,pred1),f1_score(y_test,pred2),f1_score(y_test,pred3),f1_score(y_test,pred4),f1_score(y_test,pred5),f1_score(y_test,pred7),f1_score(y_test,pred8),f1_score(y_test,pred9)]\n",
    "models=[\"model1\",\"model2\",\"model3\",\"model4\",\"model5\",\"model7\",\"model8\",\"model9\"]\n",
    "compare=pd.DataFrame(list(zip(accuracy,f1_scores)),index=models,columns=['accuracy','f1_score'])\n",
    "compare.sort_values(by=['accuracy'],ascending=False)"
   ]
  },
  {
   "cell_type": "markdown",
   "id": "5643cbb7",
   "metadata": {},
   "source": [
    "# Cross Validation"
   ]
  },
  {
   "cell_type": "code",
   "execution_count": 66,
   "id": "f6b47026",
   "metadata": {},
   "outputs": [],
   "source": [
    "cv = RepeatedKFold(n_splits=10, n_repeats=3, random_state=0)"
   ]
  },
  {
   "cell_type": "code",
   "execution_count": 67,
   "id": "2195a74f",
   "metadata": {},
   "outputs": [],
   "source": [
    "model1=LogisticRegression(solver='liblinear', C=100, random_state=99)\n",
    "model2=LogisticRegression(C=5,random_state=99,class_weight=\"balanced\")\n",
    "model4=GaussianNB()\n",
    "model7=DecisionTreeClassifier()\n",
    "model8=KNeighborsClassifier()\n",
    "model9=RandomForestClassifier(n_estimators=100)\n",
    "\n",
    "\n"
   ]
  },
  {
   "cell_type": "code",
   "execution_count": 68,
   "id": "dc4cc144",
   "metadata": {},
   "outputs": [],
   "source": [
    "score1 = cross_val_score(model1, X, Y, scoring='accuracy', cv=cv, n_jobs=-1)\n",
    "score2 = cross_val_score(model2, X, Y, scoring='accuracy', cv=cv, n_jobs=-1)\n",
    "score4 = cross_val_score(model4, X, Y, scoring='accuracy', cv=cv, n_jobs=-1)\n",
    "score7 = cross_val_score(model7, X, Y, scoring='accuracy', cv=cv, n_jobs=-1)\n",
    "score8 = cross_val_score(model8, X, Y, scoring='accuracy', cv=cv, n_jobs=-1)\n",
    "score9 = cross_val_score(model9, X, Y, scoring='accuracy', cv=cv, n_jobs=-1)\n"
   ]
  },
  {
   "cell_type": "code",
   "execution_count": 71,
   "id": "8186ca88",
   "metadata": {},
   "outputs": [
    {
     "data": {
      "text/plain": [
       "model1    0.828850\n",
       "model9    0.823190\n",
       "model8    0.815802\n",
       "model7    0.813161\n",
       "model4    0.803611\n",
       "model2    0.724853\n",
       "dtype: float64"
      ]
     },
     "execution_count": 71,
     "metadata": {},
     "output_type": "execute_result"
    }
   ],
   "source": [
    "models=[\"model1\",\"model2\",\"model4\",\"model7\",\"model8\",\"model9\"]\n",
    "pd.DataFrame(list(zip(score1,score2,score4,score7,score8,score9)),columns=models).mean().sort_values(ascending=False)\n",
    "\n"
   ]
  },
  {
   "cell_type": "markdown",
   "id": "7bfa6308",
   "metadata": {},
   "source": [
    "# Result : Choose Model 1 "
   ]
  },
  {
   "cell_type": "code",
   "execution_count": 72,
   "id": "c411520c",
   "metadata": {},
   "outputs": [
    {
     "data": {
      "text/html": [
       "<div>\n",
       "<style scoped>\n",
       "    .dataframe tbody tr th:only-of-type {\n",
       "        vertical-align: middle;\n",
       "    }\n",
       "\n",
       "    .dataframe tbody tr th {\n",
       "        vertical-align: top;\n",
       "    }\n",
       "\n",
       "    .dataframe thead th {\n",
       "        text-align: right;\n",
       "    }\n",
       "</style>\n",
       "<table border=\"1\" class=\"dataframe\">\n",
       "  <thead>\n",
       "    <tr style=\"text-align: right;\">\n",
       "      <th></th>\n",
       "      <th>id</th>\n",
       "      <th>user_id</th>\n",
       "      <th>unit_id</th>\n",
       "      <th>result</th>\n",
       "      <th>modified_at</th>\n",
       "      <th>type</th>\n",
       "      <th>is_step</th>\n",
       "      <th>problem_id</th>\n",
       "      <th>created_at</th>\n",
       "    </tr>\n",
       "  </thead>\n",
       "  <tbody>\n",
       "    <tr>\n",
       "      <th>0</th>\n",
       "      <td>5844437</td>\n",
       "      <td>64419</td>\n",
       "      <td>10485</td>\n",
       "      <td>NaN</td>\n",
       "      <td>2019-09-03T15:05:48.000Z</td>\n",
       "      <td>CHAPTERREVIEW</td>\n",
       "      <td>False</td>\n",
       "      <td>6779408</td>\n",
       "      <td>2019-09-03T15:05:15.000Z</td>\n",
       "    </tr>\n",
       "    <tr>\n",
       "      <th>1</th>\n",
       "      <td>5844438</td>\n",
       "      <td>64419</td>\n",
       "      <td>10377</td>\n",
       "      <td>NaN</td>\n",
       "      <td>2019-09-03T15:06:20.000Z</td>\n",
       "      <td>CHAPTERREVIEW</td>\n",
       "      <td>False</td>\n",
       "      <td>6775670</td>\n",
       "      <td>2019-09-03T15:05:56.000Z</td>\n",
       "    </tr>\n",
       "    <tr>\n",
       "      <th>2</th>\n",
       "      <td>5844440</td>\n",
       "      <td>64419</td>\n",
       "      <td>10488</td>\n",
       "      <td>NaN</td>\n",
       "      <td>2019-09-03T15:06:51.000Z</td>\n",
       "      <td>CHAPTERREVIEW</td>\n",
       "      <td>False</td>\n",
       "      <td>6779424</td>\n",
       "      <td>2019-09-03T15:06:28.000Z</td>\n",
       "    </tr>\n",
       "    <tr>\n",
       "      <th>3</th>\n",
       "      <td>5844443</td>\n",
       "      <td>64419</td>\n",
       "      <td>10429</td>\n",
       "      <td>NaN</td>\n",
       "      <td>2019-09-03T15:08:50.000Z</td>\n",
       "      <td>LESSON</td>\n",
       "      <td>False</td>\n",
       "      <td>6780710</td>\n",
       "      <td>2019-09-03T15:08:27.000Z</td>\n",
       "    </tr>\n",
       "    <tr>\n",
       "      <th>4</th>\n",
       "      <td>5844444</td>\n",
       "      <td>64419</td>\n",
       "      <td>10430</td>\n",
       "      <td>NaN</td>\n",
       "      <td>2019-09-03T15:09:50.000Z</td>\n",
       "      <td>LESSON</td>\n",
       "      <td>False</td>\n",
       "      <td>6780735</td>\n",
       "      <td>2019-09-03T15:08:59.000Z</td>\n",
       "    </tr>\n",
       "    <tr>\n",
       "      <th>...</th>\n",
       "      <td>...</td>\n",
       "      <td>...</td>\n",
       "      <td>...</td>\n",
       "      <td>...</td>\n",
       "      <td>...</td>\n",
       "      <td>...</td>\n",
       "      <td>...</td>\n",
       "      <td>...</td>\n",
       "      <td>...</td>\n",
       "    </tr>\n",
       "    <tr>\n",
       "      <th>26265</th>\n",
       "      <td>6572316</td>\n",
       "      <td>58146</td>\n",
       "      <td>11335</td>\n",
       "      <td>NaN</td>\n",
       "      <td>2019-12-28T19:45:29.000Z</td>\n",
       "      <td>LESSON</td>\n",
       "      <td>False</td>\n",
       "      <td>6831788</td>\n",
       "      <td>2019-12-28T19:37:28.000Z</td>\n",
       "    </tr>\n",
       "    <tr>\n",
       "      <th>26266</th>\n",
       "      <td>6572436</td>\n",
       "      <td>58146</td>\n",
       "      <td>11336</td>\n",
       "      <td>NaN</td>\n",
       "      <td>2019-12-28T19:46:27.000Z</td>\n",
       "      <td>LESSON</td>\n",
       "      <td>False</td>\n",
       "      <td>6833937</td>\n",
       "      <td>2019-12-28T19:46:16.000Z</td>\n",
       "    </tr>\n",
       "    <tr>\n",
       "      <th>26267</th>\n",
       "      <td>6572443</td>\n",
       "      <td>58146</td>\n",
       "      <td>11338</td>\n",
       "      <td>NaN</td>\n",
       "      <td>2019-12-28T19:54:13.000Z</td>\n",
       "      <td>LESSON</td>\n",
       "      <td>False</td>\n",
       "      <td>6831839</td>\n",
       "      <td>2019-12-28T19:46:34.000Z</td>\n",
       "    </tr>\n",
       "    <tr>\n",
       "      <th>26268</th>\n",
       "      <td>6572549</td>\n",
       "      <td>58146</td>\n",
       "      <td>11341</td>\n",
       "      <td>NaN</td>\n",
       "      <td>2019-12-28T20:08:57.000Z</td>\n",
       "      <td>LESSON</td>\n",
       "      <td>False</td>\n",
       "      <td>6842318</td>\n",
       "      <td>2019-12-28T19:54:32.000Z</td>\n",
       "    </tr>\n",
       "    <tr>\n",
       "      <th>26269</th>\n",
       "      <td>6572642</td>\n",
       "      <td>58146</td>\n",
       "      <td>11342</td>\n",
       "      <td>NaN</td>\n",
       "      <td>2019-12-28T20:16:24.000Z</td>\n",
       "      <td>LESSON</td>\n",
       "      <td>False</td>\n",
       "      <td>6625469</td>\n",
       "      <td>2019-12-28T20:09:55.000Z</td>\n",
       "    </tr>\n",
       "  </tbody>\n",
       "</table>\n",
       "<p>26270 rows × 9 columns</p>\n",
       "</div>"
      ],
      "text/plain": [
       "            id  user_id  unit_id  result               modified_at  \\\n",
       "0      5844437    64419    10485     NaN  2019-09-03T15:05:48.000Z   \n",
       "1      5844438    64419    10377     NaN  2019-09-03T15:06:20.000Z   \n",
       "2      5844440    64419    10488     NaN  2019-09-03T15:06:51.000Z   \n",
       "3      5844443    64419    10429     NaN  2019-09-03T15:08:50.000Z   \n",
       "4      5844444    64419    10430     NaN  2019-09-03T15:09:50.000Z   \n",
       "...        ...      ...      ...     ...                       ...   \n",
       "26265  6572316    58146    11335     NaN  2019-12-28T19:45:29.000Z   \n",
       "26266  6572436    58146    11336     NaN  2019-12-28T19:46:27.000Z   \n",
       "26267  6572443    58146    11338     NaN  2019-12-28T19:54:13.000Z   \n",
       "26268  6572549    58146    11341     NaN  2019-12-28T20:08:57.000Z   \n",
       "26269  6572642    58146    11342     NaN  2019-12-28T20:16:24.000Z   \n",
       "\n",
       "                type  is_step  problem_id                created_at  \n",
       "0      CHAPTERREVIEW    False     6779408  2019-09-03T15:05:15.000Z  \n",
       "1      CHAPTERREVIEW    False     6775670  2019-09-03T15:05:56.000Z  \n",
       "2      CHAPTERREVIEW    False     6779424  2019-09-03T15:06:28.000Z  \n",
       "3             LESSON    False     6780710  2019-09-03T15:08:27.000Z  \n",
       "4             LESSON    False     6780735  2019-09-03T15:08:59.000Z  \n",
       "...              ...      ...         ...                       ...  \n",
       "26265         LESSON    False     6831788  2019-12-28T19:37:28.000Z  \n",
       "26266         LESSON    False     6833937  2019-12-28T19:46:16.000Z  \n",
       "26267         LESSON    False     6831839  2019-12-28T19:46:34.000Z  \n",
       "26268         LESSON    False     6842318  2019-12-28T19:54:32.000Z  \n",
       "26269         LESSON    False     6625469  2019-12-28T20:09:55.000Z  \n",
       "\n",
       "[26270 rows x 9 columns]"
      ]
     },
     "execution_count": 72,
     "metadata": {},
     "output_type": "execute_result"
    }
   ],
   "source": [
    "test"
   ]
  },
  {
   "cell_type": "code",
   "execution_count": 73,
   "id": "8451c9b5",
   "metadata": {},
   "outputs": [],
   "source": [
    "dependent_count=unit_dependency.set_index(\"id\")\n",
    "dependent_count=dependent_count.loc[test[\"unit_id\"]][\"dependencies\"].str.len()\n",
    "dependent_count=dependent_count.reset_index(drop=True)\n",
    "test[\"dependent_count\"]=dependent_count"
   ]
  },
  {
   "cell_type": "code",
   "execution_count": 74,
   "id": "414e24e3",
   "metadata": {},
   "outputs": [],
   "source": [
    "test[\"modified_at\"]=pd.to_datetime(test[\"modified_at\"])\n",
    "test[\"created_at\"]=pd.to_datetime(test[\"created_at\"])"
   ]
  },
  {
   "cell_type": "code",
   "execution_count": 75,
   "id": "22942997",
   "metadata": {},
   "outputs": [],
   "source": [
    "time_taken=test[\"modified_at\"]-test[\"created_at\"]\n",
    "time_taken=time_taken.astype(int)//(10**9)\n",
    "test[\"time_taken\"]=time_taken"
   ]
  },
  {
   "cell_type": "code",
   "execution_count": 77,
   "id": "08bd59b7",
   "metadata": {},
   "outputs": [],
   "source": [
    "lesson_count=unit_info.set_index(\"id\")\n",
    "lesson_count=pd.DataFrame(lesson_count.loc[test[\"unit_id\"]])[\"lessons\"].str.len()\n",
    "lesson_count=lesson_count.reset_index(drop=True)\n",
    "test[\"lesson_count\"]=lesson_count"
   ]
  },
  {
   "cell_type": "code",
   "execution_count": 78,
   "id": "64fe0000",
   "metadata": {},
   "outputs": [],
   "source": [
    "test[\"is_step\"]=test[\"is_step\"].astype(int)"
   ]
  },
  {
   "cell_type": "code",
   "execution_count": 84,
   "id": "d3cf79ca",
   "metadata": {},
   "outputs": [
    {
     "data": {
      "text/plain": [
       "LogisticRegression(C=100, random_state=99, solver='liblinear')"
      ]
     },
     "execution_count": 84,
     "metadata": {},
     "output_type": "execute_result"
    }
   ],
   "source": [
    "model1.fit(X,Y)"
   ]
  },
  {
   "cell_type": "code",
   "execution_count": 85,
   "id": "0890a080",
   "metadata": {},
   "outputs": [],
   "source": [
    "test_X=test[[\"type\",\"is_step\",\"dependent_count\",\"time_taken\",\"lesson_count\"]]\n",
    "test_X=pd.get_dummies(data=test_X,drop_first=True)"
   ]
  },
  {
   "cell_type": "code",
   "execution_count": 99,
   "id": "fb4ae42b",
   "metadata": {},
   "outputs": [],
   "source": [
    "out=pd.DataFrame(list(zip(test.id,model1.predict(test_X))),columns=[\"id\",\"result\"])"
   ]
  },
  {
   "cell_type": "code",
   "execution_count": 103,
   "id": "bc991f17",
   "metadata": {},
   "outputs": [],
   "source": [
    "out.to_csv('submission.csv',index=False)"
   ]
  },
  {
   "cell_type": "code",
   "execution_count": null,
   "id": "594d8f1c",
   "metadata": {},
   "outputs": [],
   "source": []
  }
 ],
 "metadata": {
  "kernelspec": {
   "display_name": "Python 3",
   "language": "python",
   "name": "python3"
  },
  "language_info": {
   "codemirror_mode": {
    "name": "ipython",
    "version": 3
   },
   "file_extension": ".py",
   "mimetype": "text/x-python",
   "name": "python",
   "nbconvert_exporter": "python",
   "pygments_lexer": "ipython3",
   "version": "3.8.8"
  }
 },
 "nbformat": 4,
 "nbformat_minor": 5
}
